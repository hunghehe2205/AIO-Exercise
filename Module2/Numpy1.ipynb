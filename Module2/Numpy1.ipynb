{
  "cells": [
    {
      "cell_type": "code",
      "execution_count": 1,
      "metadata": {
        "id": "P2rTqSxA-Q_l",
        "outputId": "2b0d80a5-7076-4f3f-fd92-2a30cca77447",
        "colab": {
          "base_uri": "https://localhost:8080/"
        }
      },
      "outputs": [
        {
          "output_type": "stream",
          "name": "stdout",
          "text": [
            "Downloading...\n",
            "From: https://drive.google.com/uc?id=1i9dqan21DjQoG5Q_VEvm0LrVwAlXD0vB\n",
            "To: /content/dog.jpeg\n",
            "\r  0% 0.00/33.7k [00:00<?, ?B/s]\r100% 33.7k/33.7k [00:00<00:00, 44.6MB/s]\n"
          ]
        }
      ],
      "source": [
        "!gdown 1i9dqan21DjQoG5Q_VEvm0LrVwAlXD0vB"
      ]
    },
    {
      "cell_type": "code",
      "source": [
        "import matplotlib.image as mpimg\n",
        "import numpy as np\n",
        "import pandas as pd"
      ],
      "metadata": {
        "id": "xbqAULppAkHg"
      },
      "execution_count": 12,
      "outputs": []
    },
    {
      "cell_type": "markdown",
      "source": [
        "# **Lightness Method**"
      ],
      "metadata": {
        "id": "2BOSizvXBWiD"
      }
    },
    {
      "cell_type": "code",
      "source": [
        "def color2grayscale(vector):\n",
        "  return np.max(vector)*0.5 + np.min(vector)*0.5"
      ],
      "metadata": {
        "id": "lTBh0lJiAp3K"
      },
      "execution_count": 5,
      "outputs": []
    },
    {
      "cell_type": "code",
      "source": [
        "\n",
        "img = mpimg.imread ('/content/dog.jpeg')\n",
        "gray_img_01 = np.apply_along_axis(color2grayscale, axis=2, arr=img)\n",
        "gray_img_01[0 , 0]"
      ],
      "metadata": {
        "id": "qQKYCZls_MR9",
        "outputId": "dc8b994e-2b1b-49f4-b1d6-5779b1dab92a",
        "colab": {
          "base_uri": "https://localhost:8080/"
        }
      },
      "execution_count": 6,
      "outputs": [
        {
          "output_type": "execute_result",
          "data": {
            "text/plain": [
              "102.5"
            ]
          },
          "metadata": {},
          "execution_count": 6
        }
      ]
    },
    {
      "cell_type": "markdown",
      "source": [
        "# **Average Method**"
      ],
      "metadata": {
        "id": "b2ANAjthBZrN"
      }
    },
    {
      "cell_type": "code",
      "source": [
        "def color2grayscale(vector):\n",
        "  return np.sum(vector)/3"
      ],
      "metadata": {
        "id": "a25ilw5rBext"
      },
      "execution_count": 7,
      "outputs": []
    },
    {
      "cell_type": "code",
      "source": [
        "gray_img_02 = np.apply_along_axis(color2grayscale, axis=2, arr=img)\n",
        "gray_img_02[0 , 0]"
      ],
      "metadata": {
        "id": "6-TforF1ByXJ",
        "outputId": "d0560d71-04d4-4e31-c29f-8ab779d50ff8",
        "colab": {
          "base_uri": "https://localhost:8080/"
        }
      },
      "execution_count": 8,
      "outputs": [
        {
          "output_type": "execute_result",
          "data": {
            "text/plain": [
              "107.66666666666667"
            ]
          },
          "metadata": {},
          "execution_count": 8
        }
      ]
    },
    {
      "cell_type": "markdown",
      "source": [
        "# **Luminosity Method**"
      ],
      "metadata": {
        "id": "Ts87uNKECBY5"
      }
    },
    {
      "cell_type": "code",
      "source": [
        "def color2grayscale(vector):\n",
        "  return vector[0]*0.21 + vector[1]*0.72 + vector[2]*0.07"
      ],
      "metadata": {
        "id": "QsP8HZIOCXUj"
      },
      "execution_count": 9,
      "outputs": []
    },
    {
      "cell_type": "code",
      "source": [
        "gray_img_03 = np.apply_along_axis(color2grayscale, axis=2, arr=img)\n",
        "gray_img_03[0 , 0]"
      ],
      "metadata": {
        "id": "GU5IKdsQDH9z",
        "outputId": "e4e90d27-fbd5-4af0-857e-951736264be8",
        "colab": {
          "base_uri": "https://localhost:8080/"
        }
      },
      "execution_count": 10,
      "outputs": [
        {
          "output_type": "execute_result",
          "data": {
            "text/plain": [
              "126.22999999999999"
            ]
          },
          "metadata": {},
          "execution_count": 10
        }
      ]
    },
    {
      "cell_type": "markdown",
      "source": [
        "# **Bai tap 3**"
      ],
      "metadata": {
        "id": "ittzw6BmDT5B"
      }
    },
    {
      "cell_type": "code",
      "source": [
        "!gdown 1iA0WmVfW88HyJvTBSQDI5vesf-pgKabq"
      ],
      "metadata": {
        "id": "DTHMbRAzDWMx",
        "outputId": "98f5eb08-9809-48e9-d01d-376c6b0b2d27",
        "colab": {
          "base_uri": "https://localhost:8080/"
        }
      },
      "execution_count": 11,
      "outputs": [
        {
          "output_type": "stream",
          "name": "stdout",
          "text": [
            "Downloading...\n",
            "From: https://drive.google.com/uc?id=1iA0WmVfW88HyJvTBSQDI5vesf-pgKabq\n",
            "To: /content/advertising.csv\n",
            "\r  0% 0.00/4.06k [00:00<?, ?B/s]\r100% 4.06k/4.06k [00:00<00:00, 14.1MB/s]\n"
          ]
        }
      ]
    },
    {
      "cell_type": "markdown",
      "source": [
        "Question 15"
      ],
      "metadata": {
        "id": "QBGvSfnhEsDg"
      }
    },
    {
      "cell_type": "code",
      "source": [
        "df = pd.read_csv('/content/advertising.csv')\n",
        "df_numpy = df.to_numpy()\n",
        "max_result = np.max(df_numpy[:,3])\n",
        "index = np.where(df_numpy[:,3] == max_result)\n",
        "print(index)\n",
        "print(max_result)\n"
      ],
      "metadata": {
        "id": "r7xeZJaYDji0",
        "outputId": "a8765f84-84a9-4772-ddf7-d71274f0922a",
        "colab": {
          "base_uri": "https://localhost:8080/"
        }
      },
      "execution_count": 17,
      "outputs": [
        {
          "output_type": "stream",
          "name": "stdout",
          "text": [
            "(array([175]),)\n",
            "27.0\n"
          ]
        }
      ]
    },
    {
      "cell_type": "markdown",
      "source": [
        "Question 16"
      ],
      "metadata": {
        "id": "dgOlsaanEuOk"
      }
    },
    {
      "cell_type": "code",
      "source": [
        "mean_tv = np.mean(df_numpy[:,0])\n",
        "print(mean_tv)"
      ],
      "metadata": {
        "id": "VYFSuAdfEreU",
        "outputId": "0d22d142-6506-42ef-aa6a-5f23f9d019ac",
        "colab": {
          "base_uri": "https://localhost:8080/"
        }
      },
      "execution_count": 18,
      "outputs": [
        {
          "output_type": "stream",
          "name": "stdout",
          "text": [
            "147.0425\n"
          ]
        }
      ]
    },
    {
      "cell_type": "markdown",
      "source": [
        "Question 17"
      ],
      "metadata": {
        "id": "cwvkGw3jFH2I"
      }
    },
    {
      "cell_type": "code",
      "source": [
        "sales_counter = np.sum(df_numpy[:,3] >= 20.0)\n",
        "sales_counter"
      ],
      "metadata": {
        "id": "5Eru0vWQFJED",
        "outputId": "0328d998-f35b-4aca-a363-0938ca6ec11b",
        "colab": {
          "base_uri": "https://localhost:8080/"
        }
      },
      "execution_count": 19,
      "outputs": [
        {
          "output_type": "execute_result",
          "data": {
            "text/plain": [
              "40"
            ]
          },
          "metadata": {},
          "execution_count": 19
        }
      ]
    },
    {
      "cell_type": "markdown",
      "source": [
        "Question 18"
      ],
      "metadata": {
        "id": "VG6h6zMNFmN5"
      }
    },
    {
      "cell_type": "code",
      "source": [
        "sales_cond = df_numpy[:,3] >= 15.0\n",
        "radio_data = df_numpy[:,1]\n",
        "radio_cond = radio_data[sales_cond]\n",
        "radio_cond.mean()"
      ],
      "metadata": {
        "id": "iGeGS1tAFoX9",
        "outputId": "8eb80521-1b54-4650-f29c-f1465c4d7e89",
        "colab": {
          "base_uri": "https://localhost:8080/"
        }
      },
      "execution_count": 23,
      "outputs": [
        {
          "output_type": "execute_result",
          "data": {
            "text/plain": [
              "26.22293577981651"
            ]
          },
          "metadata": {},
          "execution_count": 23
        }
      ]
    },
    {
      "cell_type": "markdown",
      "source": [
        "Question 19"
      ],
      "metadata": {
        "id": "vaFugmAVGK3q"
      }
    },
    {
      "cell_type": "code",
      "source": [
        "news_data = df_numpy[:,2]\n",
        "news_mean = np.mean(news_data)\n",
        "news_cond = news_data > news_mean\n",
        "sales_data = df_numpy[:,3]\n",
        "sales_cond = sales_data[news_cond]\n",
        "sales_cond.sum()"
      ],
      "metadata": {
        "id": "03K71_PgGMU8",
        "outputId": "0b0b5571-0260-4e41-cd99-1752eb60f9c9",
        "colab": {
          "base_uri": "https://localhost:8080/"
        }
      },
      "execution_count": 24,
      "outputs": [
        {
          "output_type": "execute_result",
          "data": {
            "text/plain": [
              "1405.1"
            ]
          },
          "metadata": {},
          "execution_count": 24
        }
      ]
    },
    {
      "cell_type": "markdown",
      "source": [
        "Question 20"
      ],
      "metadata": {
        "id": "KQZ7lSlbG9mB"
      }
    },
    {
      "cell_type": "code",
      "source": [
        "sales_mean = sales_data.mean()\n",
        "scores = np.where(sales_data < sales_mean, \"BAD\",\n",
        "                  np.where(sales_data > sales_mean, \"GOOD\", \"AVERAGE\"))\n",
        "scores[7:10]\n"
      ],
      "metadata": {
        "id": "8-2Gyp-7G_c1",
        "outputId": "79456004-0959-420d-aa74-185f7252b217",
        "colab": {
          "base_uri": "https://localhost:8080/"
        }
      },
      "execution_count": 25,
      "outputs": [
        {
          "output_type": "execute_result",
          "data": {
            "text/plain": [
              "array(['BAD', 'BAD', 'GOOD'], dtype='<U7')"
            ]
          },
          "metadata": {},
          "execution_count": 25
        }
      ]
    },
    {
      "cell_type": "markdown",
      "source": [
        "Question 21"
      ],
      "metadata": {
        "id": "1LElqEp0HrLw"
      }
    },
    {
      "cell_type": "code",
      "source": [
        "sub_abs = abs(sales_data - sales_mean)\n",
        "avg_idx = np.argmin(sub_abs)\n",
        "sales_avg = sales_data[avg_idx]\n",
        "scores = np.where(\n",
        "    sales_data < sales_avg, \"BAD\",\n",
        "    np.where(sales_data > sales_avg, \"GOOD\", \"AVERAGE\")\n",
        ")\n",
        "scores[7:10]"
      ],
      "metadata": {
        "id": "I31j148mHtA-",
        "outputId": "64a80099-bf08-4fbc-f776-9c05e76a355c",
        "colab": {
          "base_uri": "https://localhost:8080/"
        }
      },
      "execution_count": 28,
      "outputs": [
        {
          "output_type": "execute_result",
          "data": {
            "text/plain": [
              "array(['BAD', 'BAD', 'GOOD'], dtype='<U7')"
            ]
          },
          "metadata": {},
          "execution_count": 28
        }
      ]
    }
  ],
  "metadata": {
    "language_info": {
      "name": "python"
    },
    "colab": {
      "provenance": []
    },
    "kernelspec": {
      "name": "python3",
      "display_name": "Python 3"
    }
  },
  "nbformat": 4,
  "nbformat_minor": 0
}